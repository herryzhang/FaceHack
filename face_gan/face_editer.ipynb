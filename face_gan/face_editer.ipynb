{
 "cells": [
  {
   "cell_type": "code",
   "execution_count": null,
   "metadata": {
    "ExecuteTime": {
     "end_time": "2020-02-25T10:54:02.582449Z",
     "start_time": "2020-02-25T10:54:00.966008Z"
    },
    "scrolled": true
   },
   "outputs": [],
   "source": [
    "import pickle\n",
    "import PIL.Image\n",
    "import numpy as np\n",
    "import dnnlib\n",
    "import dnnlib.tflib as tflib\n",
    "import os\n",
    "from PIL import Image\n",
    "import imageio"
   ]
  },
  {
   "cell_type": "code",
   "execution_count": null,
   "metadata": {
    "ExecuteTime": {
     "end_time": "2020-02-25T10:54:02.620562Z",
     "start_time": "2020-02-25T10:54:02.616888Z"
    }
   },
   "outputs": [],
   "source": [
    "def png2gif(file_name):\n",
    "    images = []\n",
    "    filenames=sorted((fn for fn in os.listdir(file_name) if fn.endswith('.png')))\n",
    "    for filename in filenames:\n",
    "        images.append(imageio.imread(file_name+'/'+filename))\n",
    "    imageio.mimsave('result.gif', images,duration=0.5)"
   ]
  },
  {
   "cell_type": "code",
   "execution_count": null,
   "metadata": {
    "ExecuteTime": {
     "end_time": "2020-02-25T10:54:02.791919Z",
     "start_time": "2020-02-25T10:54:02.654912Z"
    }
   },
   "outputs": [],
   "source": [
    "def move_latent_and_save(latent_vector, direction_file, coeffs, Gs_network, Gs_syn_kwargs):\n",
    "    direction = np.load('latent_directions/' + direction_file)\n",
    "    os.makedirs('results/'+direction_file.split('.')[0], exist_ok=True)\n",
    "    '''latent_vector是人脸潜编码，direction是人脸调整方向，coeffs是变化步幅的向量，generator是生成器'''\n",
    "    for i, coeff in enumerate(coeffs):\n",
    "        new_latent_vector = latent_vector.copy()\n",
    "        new_latent_vector[0][:8] = (latent_vector[0] + coeff*direction)[:8]\n",
    "        images = Gs_network.components.synthesis.run(new_latent_vector, **Gs_syn_kwargs)\n",
    "        result = PIL.Image.fromarray(images[0], 'RGB')\n",
    "        result.save('results/'+direction_file.split('.')[0]+'/'+str(i).zfill(3)+'.png')"
   ]
  },
  {
   "cell_type": "code",
   "execution_count": null,
   "metadata": {
    "ExecuteTime": {
     "end_time": "2020-02-25T10:54:05.934817Z",
     "start_time": "2020-02-25T10:54:05.928802Z"
    }
   },
   "outputs": [],
   "source": [
    "def main():\n",
    "\n",
    "    # 在这儿选择生成器\n",
    "    tflib.init_tf()\n",
    "    with open('networks/stylegan2-ffhq-config-f.pkl', \"rb\") as f:\n",
    "        generator_network, discriminator_network, Gs_network = pickle.load(f)\n",
    "\n",
    "    # 这是一些配置参数，不要动它\n",
    "    w_avg = Gs_network.get_var('dlatent_avg')\n",
    "    noise_vars = [var for name, var in Gs_network.components.synthesis.vars.items() if name.startswith('noise')]\n",
    "    Gs_syn_kwargs = dnnlib.EasyDict()\n",
    "    Gs_syn_kwargs.output_transform = dict(func=tflib.convert_images_to_uint8, nchw_to_nhwc=True)\n",
    "    Gs_syn_kwargs.randomize_noise = False\n",
    "    Gs_syn_kwargs.minibatch_size = 1\n",
    "    truncation_psi = 0.5\n",
    "    \n",
    "    nw = np.load('./latent_representations/3.npy')[np.newaxis, :]\n",
    "    direction_file = 'smile.npy'  # 从上面的编辑向量中选择一个\n",
    "\n",
    "    # 在这儿选择调整的大小，向量里面的值表示调整幅度，可以自行编辑，对于每个值都会生成一张图片并保存。\n",
    "    coeffs = [-2., -1.5, -0.75, 0., 0.75, 1.5, 2.]\n",
    "\n",
    "    # 开始调整并保存图片\n",
    "    move_latent_and_save(nw, direction_file, coeffs, Gs_network, Gs_syn_kwargs)"
   ]
  },
  {
   "cell_type": "code",
   "execution_count": null,
   "metadata": {
    "ExecuteTime": {
     "end_time": "2020-02-25T10:54:27.602010Z",
     "start_time": "2020-02-25T10:54:07.435045Z"
    }
   },
   "outputs": [],
   "source": [
    "main()"
   ]
  },
  {
   "cell_type": "code",
   "execution_count": null,
   "metadata": {
    "ExecuteTime": {
     "end_time": "2020-02-25T10:54:32.500428Z",
     "start_time": "2020-02-25T10:54:30.217407Z"
    }
   },
   "outputs": [],
   "source": [
    "png2gif('./results/smile/')"
   ]
  },
  {
   "cell_type": "code",
   "execution_count": 1,
   "metadata": {
    "ExecuteTime": {
     "end_time": "2020-03-03T08:38:41.766458Z",
     "start_time": "2020-03-03T08:38:41.214424Z"
    }
   },
   "outputs": [],
   "source": [
    "import cv2"
   ]
  },
  {
   "cell_type": "code",
   "execution_count": 22,
   "metadata": {
    "ExecuteTime": {
     "end_time": "2020-03-03T10:10:02.771416Z",
     "start_time": "2020-03-03T10:10:02.656559Z"
    }
   },
   "outputs": [],
   "source": [
    "img = cv2.imread('./aligned_images/gls.png')"
   ]
  },
  {
   "cell_type": "code",
   "execution_count": 23,
   "metadata": {
    "ExecuteTime": {
     "end_time": "2020-03-03T10:10:02.858501Z",
     "start_time": "2020-03-03T10:10:02.854101Z"
    }
   },
   "outputs": [],
   "source": [
    "img = cv2.resize(img,(1024,1024))"
   ]
  },
  {
   "cell_type": "code",
   "execution_count": 24,
   "metadata": {
    "ExecuteTime": {
     "end_time": "2020-03-03T10:10:03.108594Z",
     "start_time": "2020-03-03T10:10:03.088157Z"
    }
   },
   "outputs": [
    {
     "data": {
      "text/plain": [
       "True"
      ]
     },
     "execution_count": 24,
     "metadata": {},
     "output_type": "execute_result"
    }
   ],
   "source": [
    "cv2.imwrite('./aligned_images/gls.jpg', img)"
   ]
  },
  {
   "cell_type": "code",
   "execution_count": null,
   "metadata": {},
   "outputs": [],
   "source": []
  }
 ],
 "metadata": {
  "kernelspec": {
   "display_name": "deepfacelab",
   "language": "python",
   "name": "deepfacelab"
  },
  "language_info": {
   "codemirror_mode": {
    "name": "ipython",
    "version": 3
   },
   "file_extension": ".py",
   "mimetype": "text/x-python",
   "name": "python",
   "nbconvert_exporter": "python",
   "pygments_lexer": "ipython3",
   "version": "3.6.0"
  },
  "nbTranslate": {
   "displayLangs": [
    "*"
   ],
   "hotkey": "alt-t",
   "langInMainMenu": true,
   "sourceLang": "en",
   "targetLang": "fr",
   "useGoogleTranslate": true
  },
  "toc": {
   "base_numbering": 1,
   "nav_menu": {},
   "number_sections": true,
   "sideBar": true,
   "skip_h1_title": false,
   "title_cell": "Table of Contents",
   "title_sidebar": "Contents",
   "toc_cell": false,
   "toc_position": {},
   "toc_section_display": true,
   "toc_window_display": false
  },
  "varInspector": {
   "cols": {
    "lenName": 16,
    "lenType": 16,
    "lenVar": 40
   },
   "kernels_config": {
    "python": {
     "delete_cmd_postfix": "",
     "delete_cmd_prefix": "del ",
     "library": "var_list.py",
     "varRefreshCmd": "print(var_dic_list())"
    },
    "r": {
     "delete_cmd_postfix": ") ",
     "delete_cmd_prefix": "rm(",
     "library": "var_list.r",
     "varRefreshCmd": "cat(var_dic_list()) "
    }
   },
   "types_to_exclude": [
    "module",
    "function",
    "builtin_function_or_method",
    "instance",
    "_Feature"
   ],
   "window_display": false
  }
 },
 "nbformat": 4,
 "nbformat_minor": 2
}
